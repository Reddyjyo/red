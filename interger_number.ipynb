{
  "nbformat": 4,
  "nbformat_minor": 0,
  "metadata": {
    "colab": {
      "provenance": [],
      "authorship_tag": "ABX9TyNpGQUP6t2SsOEyCjnb3xmb",
      "include_colab_link": true
    },
    "kernelspec": {
      "name": "python3",
      "display_name": "Python 3"
    },
    "language_info": {
      "name": "python"
    }
  },
  "cells": [
    {
      "cell_type": "markdown",
      "metadata": {
        "id": "view-in-github",
        "colab_type": "text"
      },
      "source": [
        "<a href=\"https://colab.research.google.com/github/Reddyjyo/red/blob/main/interger_number.ipynb\" target=\"_parent\"><img src=\"https://colab.research.google.com/assets/colab-badge.svg\" alt=\"Open In Colab\"/></a>"
      ]
    },
    {
      "cell_type": "code",
      "execution_count": null,
      "metadata": {
        "colab": {
          "base_uri": "https://localhost:8080/",
          "height": 373
        },
        "id": "1vRdXzACMHZW",
        "outputId": "398ec6ed-a7e1-4922-ddb0-5e82f253df37"
      },
      "outputs": [
        {
          "output_type": "error",
          "ename": "MessageError",
          "evalue": "Error: credential propagation was unsuccessful",
          "traceback": [
            "\u001b[0;31m---------------------------------------------------------------------------\u001b[0m",
            "\u001b[0;31mMessageError\u001b[0m                              Traceback (most recent call last)",
            "\u001b[0;32m<ipython-input-1-d4e7a122644d>\u001b[0m in \u001b[0;36m<cell line: 9>\u001b[0;34m()\u001b[0m\n\u001b[1;32m      7\u001b[0m \u001b[0;34m\u001b[0m\u001b[0m\n\u001b[1;32m      8\u001b[0m \u001b[0;31m# Authenticate with Google Sheets API and Drive API\u001b[0m\u001b[0;34m\u001b[0m\u001b[0;34m\u001b[0m\u001b[0m\n\u001b[0;32m----> 9\u001b[0;31m \u001b[0mauth\u001b[0m\u001b[0;34m.\u001b[0m\u001b[0mauthenticate_user\u001b[0m\u001b[0;34m(\u001b[0m\u001b[0;34m)\u001b[0m\u001b[0;34m\u001b[0m\u001b[0;34m\u001b[0m\u001b[0m\n\u001b[0m\u001b[1;32m     10\u001b[0m \u001b[0mcreds\u001b[0m\u001b[0;34m,\u001b[0m \u001b[0m_\u001b[0m \u001b[0;34m=\u001b[0m \u001b[0mdefault\u001b[0m\u001b[0;34m(\u001b[0m\u001b[0;34m)\u001b[0m\u001b[0;34m\u001b[0m\u001b[0;34m\u001b[0m\u001b[0m\n\u001b[1;32m     11\u001b[0m \u001b[0mdrive_service\u001b[0m \u001b[0;34m=\u001b[0m \u001b[0mbuild\u001b[0m\u001b[0;34m(\u001b[0m\u001b[0;34m'drive'\u001b[0m\u001b[0;34m,\u001b[0m \u001b[0;34m'v3'\u001b[0m\u001b[0;34m)\u001b[0m\u001b[0;34m\u001b[0m\u001b[0;34m\u001b[0m\u001b[0m\n",
            "\u001b[0;32m/usr/local/lib/python3.10/dist-packages/google/colab/auth.py\u001b[0m in \u001b[0;36mauthenticate_user\u001b[0;34m(clear_output, project_id)\u001b[0m\n\u001b[1;32m    279\u001b[0m   \u001b[0;32mif\u001b[0m \u001b[0;32mnot\u001b[0m \u001b[0m_check_adc\u001b[0m\u001b[0;34m(\u001b[0m\u001b[0m_CredentialType\u001b[0m\u001b[0;34m.\u001b[0m\u001b[0mUSER\u001b[0m\u001b[0;34m)\u001b[0m\u001b[0;34m:\u001b[0m\u001b[0;34m\u001b[0m\u001b[0;34m\u001b[0m\u001b[0m\n\u001b[1;32m    280\u001b[0m     \u001b[0;32mif\u001b[0m \u001b[0muse_auth_ephem\u001b[0m\u001b[0;34m:\u001b[0m\u001b[0;34m\u001b[0m\u001b[0;34m\u001b[0m\u001b[0m\n\u001b[0;32m--> 281\u001b[0;31m       _message.blocking_request(\n\u001b[0m\u001b[1;32m    282\u001b[0m           \u001b[0;34m'request_auth'\u001b[0m\u001b[0;34m,\u001b[0m\u001b[0;34m\u001b[0m\u001b[0;34m\u001b[0m\u001b[0m\n\u001b[1;32m    283\u001b[0m           \u001b[0mrequest\u001b[0m\u001b[0;34m=\u001b[0m\u001b[0;34m{\u001b[0m\u001b[0;34m'authType'\u001b[0m\u001b[0;34m:\u001b[0m \u001b[0;34m'auth_user_ephemeral'\u001b[0m\u001b[0;34m}\u001b[0m\u001b[0;34m,\u001b[0m\u001b[0;34m\u001b[0m\u001b[0;34m\u001b[0m\u001b[0m\n",
            "\u001b[0;32m/usr/local/lib/python3.10/dist-packages/google/colab/_message.py\u001b[0m in \u001b[0;36mblocking_request\u001b[0;34m(request_type, request, timeout_sec, parent)\u001b[0m\n\u001b[1;32m    174\u001b[0m       \u001b[0mrequest_type\u001b[0m\u001b[0;34m,\u001b[0m \u001b[0mrequest\u001b[0m\u001b[0;34m,\u001b[0m \u001b[0mparent\u001b[0m\u001b[0;34m=\u001b[0m\u001b[0mparent\u001b[0m\u001b[0;34m,\u001b[0m \u001b[0mexpect_reply\u001b[0m\u001b[0;34m=\u001b[0m\u001b[0;32mTrue\u001b[0m\u001b[0;34m\u001b[0m\u001b[0;34m\u001b[0m\u001b[0m\n\u001b[1;32m    175\u001b[0m   )\n\u001b[0;32m--> 176\u001b[0;31m   \u001b[0;32mreturn\u001b[0m \u001b[0mread_reply_from_input\u001b[0m\u001b[0;34m(\u001b[0m\u001b[0mrequest_id\u001b[0m\u001b[0;34m,\u001b[0m \u001b[0mtimeout_sec\u001b[0m\u001b[0;34m)\u001b[0m\u001b[0;34m\u001b[0m\u001b[0;34m\u001b[0m\u001b[0m\n\u001b[0m",
            "\u001b[0;32m/usr/local/lib/python3.10/dist-packages/google/colab/_message.py\u001b[0m in \u001b[0;36mread_reply_from_input\u001b[0;34m(message_id, timeout_sec)\u001b[0m\n\u001b[1;32m    101\u001b[0m     ):\n\u001b[1;32m    102\u001b[0m       \u001b[0;32mif\u001b[0m \u001b[0;34m'error'\u001b[0m \u001b[0;32min\u001b[0m \u001b[0mreply\u001b[0m\u001b[0;34m:\u001b[0m\u001b[0;34m\u001b[0m\u001b[0;34m\u001b[0m\u001b[0m\n\u001b[0;32m--> 103\u001b[0;31m         \u001b[0;32mraise\u001b[0m \u001b[0mMessageError\u001b[0m\u001b[0;34m(\u001b[0m\u001b[0mreply\u001b[0m\u001b[0;34m[\u001b[0m\u001b[0;34m'error'\u001b[0m\u001b[0;34m]\u001b[0m\u001b[0;34m)\u001b[0m\u001b[0;34m\u001b[0m\u001b[0;34m\u001b[0m\u001b[0m\n\u001b[0m\u001b[1;32m    104\u001b[0m       \u001b[0;32mreturn\u001b[0m \u001b[0mreply\u001b[0m\u001b[0;34m.\u001b[0m\u001b[0mget\u001b[0m\u001b[0;34m(\u001b[0m\u001b[0;34m'data'\u001b[0m\u001b[0;34m,\u001b[0m \u001b[0;32mNone\u001b[0m\u001b[0;34m)\u001b[0m\u001b[0;34m\u001b[0m\u001b[0;34m\u001b[0m\u001b[0m\n\u001b[1;32m    105\u001b[0m \u001b[0;34m\u001b[0m\u001b[0m\n",
            "\u001b[0;31mMessageError\u001b[0m: Error: credential propagation was unsuccessful"
          ]
        }
      ],
      "source": [
        "import gspread\n",
        "import pandas as pd\n",
        "from google.colab import auth\n",
        "from google.auth import default\n",
        "from googleapiclient.discovery import build\n",
        "import time\n",
        "\n",
        "# Authenticate with Google Sheets API and Drive API\n",
        "auth.authenticate_user()\n",
        "creds, _ = default()\n",
        "drive_service = build('drive', 'v3')\n",
        "gs = gspread.authorize(creds)\n",
        "\n",
        "# Function to read data from source sheet, update destination sheet, and revert back data to source sheet\n",
        "\n",
        "# Open the Google Sheet by its ID\n",
        "sheet_id = '1SLxfoDomXXjbRJ1u1TRLJxA8d8JQFHAPSs39jm3jpMA'\n",
        "sheet = gs.open_by_key(sheet_id)\n",
        "\n",
        "# Access the worksheet by its name\n",
        "worksheet_name = 'June'\n",
        "worksheet = sheet.worksheet(worksheet_name)\n",
        "\n",
        "# Get all values from the 'employer_id', 'phone_number_dialed', and 'total_amount' columns, excluding the header\n",
        "data = worksheet.get_all_values()\n",
        "header_row = data[0]\n",
        "employer_id_index = header_row.index('employer_id')\n",
        "\n",
        "total_amount_index = header_row.index('total_amount')\n",
        "data = data[1:]\n",
        "\n",
        "# Convert data to integers\n",
        "for row in data:\n",
        "    try:\n",
        "        if row[employer_id_index]:\n",
        "            row[employer_id_index] = int(row[employer_id_index])\n",
        "        if row[total_amount_index]:\n",
        "            row[total_amount_index] = int(row[total_amount_index])\n",
        "    except ValueError:\n",
        "        pass\n",
        "\n",
        "# Update the sheet with the converted data\n",
        "cell_list = worksheet.range(2, 1, len(data) + 1, len(header_row))\n",
        "for cell, value in zip(cell_list, [item for sublist in data for item in sublist]):\n",
        "    cell.value = value\n",
        "worksheet.update_cells(cell_list)\n",
        "\n",
        "print(\"Data in the 'employer_id', 'phone_number_dialed', and 'total_amount' columns converted to integer type.\")"
      ]
    },
    {
      "cell_type": "code",
      "source": [
        "import gspread\n",
        "from google.colab import auth\n",
        "from google.auth import default\n",
        "from googleapiclient.discovery import build\n",
        "import csv\n",
        "\n",
        "# Authenticate with Google Sheets API and Drive API\n",
        "auth.authenticate_user()\n",
        "creds, _ = default()\n",
        "drive_service = build('drive', 'v3')\n",
        "gs = gspread.authorize(creds)\n",
        "\n",
        "\n",
        "# Read the data from agent_data.csv\n",
        "google_sheet_ids = []\n",
        "sheet_names = []\n",
        "with open('agent_data.csv', newline='') as csvfile:\n",
        "    reader = csv.DictReader(csvfile)\n",
        "    for row in reader:\n",
        "        google_sheet_ids.append(row['GooglesheetID'])\n",
        "        sheet_names.append(row['sheetName'])\n",
        "\n",
        "# Iterate through the data and update the sheet IDs in the code\n",
        "for sheet_id, sheet_name in zip(google_sheet_ids, sheet_names):\n",
        "    # Open the Google Sheet\n",
        "    sheet = gs.open_by_key(sheet_id)\n",
        "\n",
        "    # Access the worksheet by its name\n",
        "    worksheet = sheet.worksheet(sheet_name)\n",
        "    employer_id_data = worksheet.col_values(1)[1:]\n",
        "\n",
        "    # Convert data to integers\n",
        "    employer_id_data_int = []\n",
        "    for employer_id in employer_id_data:\n",
        "        try:\n",
        "            employer_id_data_int.append(int(employer_id))\n",
        "        except ValueError:\n",
        "            employer_id_data_int.append(None)\n",
        "    # Update the 'employer_id' column in the sheet with integers\n",
        "    worksheet.update('A2:A' + str(len(employer_id_data) + 1), [[val] for val in employer_id_data_int])\n",
        "\n",
        "    print(f\"Data in the 'employer_id' column of the sheet with ID '{sheet_id}' converted to integer type.\")"
      ],
      "metadata": {
        "colab": {
          "base_uri": "https://localhost:8080/"
        },
        "id": "5lSXut_1sgC3",
        "outputId": "35023be9-626c-498b-9cb3-0265e62486aa"
      },
      "execution_count": null,
      "outputs": [
        {
          "output_type": "stream",
          "name": "stderr",
          "text": [
            "<ipython-input-2-c09c3d7e9c4e>:40: DeprecationWarning: The order of arguments in worksheet.update() has changed. Please pass values first and range_name secondor used named arguments (range_name=, values=)\n",
            "  worksheet.update('A2:A' + str(len(employer_id_data) + 1), [[val] for val in employer_id_data_int])\n"
          ]
        },
        {
          "output_type": "stream",
          "name": "stdout",
          "text": [
            "Data in the 'employer_id' column of the sheet with ID '1SLxfoDomXXjbRJ1u1TRLJxA8d8JQFHAPSs39jm3jpMA' converted to integer type.\n",
            "Data in the 'employer_id' column of the sheet with ID '1CpiQ5OG0tGIYTJglVc01tqFtTPZOz3YXH7j1ORaejvI' converted to integer type.\n",
            "Data in the 'employer_id' column of the sheet with ID '1IXrog3vb-qjPzXlTzCJ--kSbnnvspL76BptDxhQMq24' converted to integer type.\n",
            "Data in the 'employer_id' column of the sheet with ID '1ei2MEs39JqZInNZsXICwl-CLlweD6iYXg-LZOCK0Zmg' converted to integer type.\n",
            "Data in the 'employer_id' column of the sheet with ID '1uJS5mhgTdnHTWIbST_ePVA6QJb9zYpFPyQkXxN09ReY' converted to integer type.\n",
            "Data in the 'employer_id' column of the sheet with ID '1QGtfIzXfIGvAiWcEsdQ1_t6H7SpHSGfljRlQppfmUfQ' converted to integer type.\n",
            "Data in the 'employer_id' column of the sheet with ID '1db5NargJK_b_JDbyKhkp5i3U4CoYg40_IiNZk7P2dQY' converted to integer type.\n",
            "Data in the 'employer_id' column of the sheet with ID '15kUUFe_9M29-Y_mSvzLXxb8m5g82O38wDKQybPTDZlo' converted to integer type.\n",
            "Data in the 'employer_id' column of the sheet with ID '1eFypCensmmiAAnYzlqkJFPZike6lzn79-XE8evUv5lg' converted to integer type.\n",
            "Data in the 'employer_id' column of the sheet with ID '14uBrz3rSdbrELWXatw4uLJhXUOYLzOlMQRLBPpVFWVM' converted to integer type.\n",
            "Data in the 'employer_id' column of the sheet with ID '1Kspj7gzuvAsXypCx_SFI1488yNV_4kGDgglHkfEwlyI' converted to integer type.\n",
            "Data in the 'employer_id' column of the sheet with ID '1L_zXtcKwQq7hjtclSKGOhDQ5mRiywVl-JVzRMknahnM' converted to integer type.\n",
            "Data in the 'employer_id' column of the sheet with ID '142Es1ZK2tA5G-sgK4QXXsMG5Ud1h1OPHQSrrjdzkiYQ' converted to integer type.\n",
            "Data in the 'employer_id' column of the sheet with ID '11Q4oqQNGsk64mJz5bwu-4jm-vxe0sVQ4PeCwD_j81Ys' converted to integer type.\n",
            "Data in the 'employer_id' column of the sheet with ID '1KTIZuWsBv6VaEH3URsgLRH2SoP1tDUTxfgmTcTKOms0' converted to integer type.\n",
            "Data in the 'employer_id' column of the sheet with ID '18AWDzmiuJIUUgU0sKVrCh3cY4XGFz7GjLCAt7SAN0Yc' converted to integer type.\n",
            "Data in the 'employer_id' column of the sheet with ID '1cFyrR47crpRCYIeOnTtt5DZn7p1_hT7DmnSCzgkjXIY' converted to integer type.\n",
            "Data in the 'employer_id' column of the sheet with ID '1X0WOQjKtM8LYVZ7mJmfQldfvAYMX9LPs94xN-86zMt4' converted to integer type.\n",
            "Data in the 'employer_id' column of the sheet with ID '1QnJxQIsUuZna-3_spRvyaKZhsPypEcowCxO2jqxh83U' converted to integer type.\n",
            "Data in the 'employer_id' column of the sheet with ID '1qI2_9uMp812yyCr_G6JCCMbeLGZ_ouBWUhRKoKXhlZs' converted to integer type.\n",
            "Data in the 'employer_id' column of the sheet with ID '15EigPMcNOYfrFM-Psi38_6wqgxH72ipsraE3L6dQMHk' converted to integer type.\n",
            "Data in the 'employer_id' column of the sheet with ID '1-f7e0GVUO6Q7tylapEgcQ2rE9MlW4LyY8MtrC9IGK7U' converted to integer type.\n",
            "Data in the 'employer_id' column of the sheet with ID '16YJOrcnndQLnTc32dz4FYnFZ9Z8Pz_OmE1Xe-IZ1mmY' converted to integer type.\n",
            "Data in the 'employer_id' column of the sheet with ID '1fX9j5inuYlVuKIz6JSNqXmqd8qrSHnGrbshLZUwe18A' converted to integer type.\n",
            "Data in the 'employer_id' column of the sheet with ID '1NK9iahKj1F8b3dKHznGDN1r7M6gWCZSye2_DTaRqQTs' converted to integer type.\n",
            "Data in the 'employer_id' column of the sheet with ID '1jEncFr-z0FDW1m4aYS4mkwSyW3oapZ-ExPhsuNHnVmU' converted to integer type.\n",
            "Data in the 'employer_id' column of the sheet with ID '1WXFRI37LmTxNpWCkh5DptKUGtuZf7NTO3wgArDFPO28' converted to integer type.\n",
            "Data in the 'employer_id' column of the sheet with ID '1i20zbVrwjO5I4VQccY3VTKwx2dxBBkA99RgC_6dNX-k' converted to integer type.\n",
            "Data in the 'employer_id' column of the sheet with ID '1KMfb6gQVD33Jwxdxk4RVz87Fwf_UgCZ1YeHC7OVjKC0' converted to integer type.\n",
            "Data in the 'employer_id' column of the sheet with ID '1s4xlNTedjrn55qkDyrEqTgErLA3oc1-h0pNoSdsmtrQ' converted to integer type.\n",
            "Data in the 'employer_id' column of the sheet with ID '1aC6Q7nF1l3BZyTBjTkT1qGCK9LiDEwhvO4n6AcczIYQ' converted to integer type.\n",
            "Data in the 'employer_id' column of the sheet with ID '1S6-sHH13Rk5DTmWjUOvV-XEZntxd9wdtnfZSMPyg5DI' converted to integer type.\n",
            "Data in the 'employer_id' column of the sheet with ID '16wdZwfafVzbr-tpmJgE4BYRpkjr1wYFkf-vRNOO-Hlk' converted to integer type.\n"
          ]
        }
      ]
    },
    {
      "cell_type": "code",
      "source": [
        "import gspread\n",
        "from google.colab import auth\n",
        "from google.auth import default\n",
        "from googleapiclient.discovery import build\n",
        "import csv\n",
        "\n",
        "# Authenticate with Google Sheets API and Drive API\n",
        "auth.authenticate_user()\n",
        "creds, _ = default()\n",
        "drive_service = build('drive', 'v3')\n",
        "gs = gspread.authorize(creds)\n",
        "\n",
        "# Read the data from agent_data.csv\n",
        "google_sheet_ids = []\n",
        "sheet_names = []\n",
        "with open('agent_data.csv', newline='') as csvfile:\n",
        "    reader = csv.DictReader(csvfile)\n",
        "    for row in reader:\n",
        "        google_sheet_ids.append(row['GooglesheetID'])\n",
        "        sheet_names.append(row['sheetName'])\n",
        "\n",
        "# Iterate through the data and update the sheet IDs in the code\n",
        "for sheet_id, sheet_name in zip(google_sheet_ids, sheet_names):\n",
        "    # Open the Google Sheet\n",
        "    sheet = gs.open_by_key(sheet_id)\n",
        "\n",
        "    # Access the worksheet by its name\n",
        "    worksheet = sheet.worksheet(sheet_name)\n",
        "    phone_no_data = worksheet.col_values(3)[1:]\n",
        "\n",
        "    # Convert data to integers\n",
        "    phone_no_data_int = []\n",
        "    for phone_no in phone_no_data:\n",
        "        try:\n",
        "            phone_no_data_int.append(int(phone_no))\n",
        "        except ValueError:\n",
        "            phone_no_data_int.append(None)\n",
        "\n",
        "    # Update the 'phone_no' column in the sheet with integers\n",
        "    cell_list = worksheet.range('C2:C' + str(len(phone_no_data) + 1))\n",
        "    for i, phone_no_int in enumerate(phone_no_data_int):\n",
        "        cell_list[i].value = phone_no_int\n",
        "    worksheet.update_cells(cell_list, value_input_option='USER_ENTERED')\n",
        "\n",
        "    print(f\"Data in column C (third column) of the sheet with ID '{sheet_id}' converted to integer type.\")\n"
      ],
      "metadata": {
        "colab": {
          "base_uri": "https://localhost:8080/"
        },
        "id": "cBaGuouxvUP0",
        "outputId": "775983cc-baaf-48d1-dd79-ff354608d0fa"
      },
      "execution_count": null,
      "outputs": [
        {
          "output_type": "stream",
          "name": "stdout",
          "text": [
            "Data in column C (third column) of the sheet with ID '1SLxfoDomXXjbRJ1u1TRLJxA8d8JQFHAPSs39jm3jpMA' converted to integer type.\n",
            "Data in column C (third column) of the sheet with ID '1CpiQ5OG0tGIYTJglVc01tqFtTPZOz3YXH7j1ORaejvI' converted to integer type.\n",
            "Data in column C (third column) of the sheet with ID '1IXrog3vb-qjPzXlTzCJ--kSbnnvspL76BptDxhQMq24' converted to integer type.\n",
            "Data in column C (third column) of the sheet with ID '1ei2MEs39JqZInNZsXICwl-CLlweD6iYXg-LZOCK0Zmg' converted to integer type.\n",
            "Data in column C (third column) of the sheet with ID '1uJS5mhgTdnHTWIbST_ePVA6QJb9zYpFPyQkXxN09ReY' converted to integer type.\n",
            "Data in column C (third column) of the sheet with ID '1QGtfIzXfIGvAiWcEsdQ1_t6H7SpHSGfljRlQppfmUfQ' converted to integer type.\n",
            "Data in column C (third column) of the sheet with ID '1db5NargJK_b_JDbyKhkp5i3U4CoYg40_IiNZk7P2dQY' converted to integer type.\n",
            "Data in column C (third column) of the sheet with ID '15kUUFe_9M29-Y_mSvzLXxb8m5g82O38wDKQybPTDZlo' converted to integer type.\n",
            "Data in column C (third column) of the sheet with ID '1eFypCensmmiAAnYzlqkJFPZike6lzn79-XE8evUv5lg' converted to integer type.\n",
            "Data in column C (third column) of the sheet with ID '14uBrz3rSdbrELWXatw4uLJhXUOYLzOlMQRLBPpVFWVM' converted to integer type.\n",
            "Data in column C (third column) of the sheet with ID '1Kspj7gzuvAsXypCx_SFI1488yNV_4kGDgglHkfEwlyI' converted to integer type.\n",
            "Data in column C (third column) of the sheet with ID '1L_zXtcKwQq7hjtclSKGOhDQ5mRiywVl-JVzRMknahnM' converted to integer type.\n",
            "Data in column C (third column) of the sheet with ID '142Es1ZK2tA5G-sgK4QXXsMG5Ud1h1OPHQSrrjdzkiYQ' converted to integer type.\n",
            "Data in column C (third column) of the sheet with ID '11Q4oqQNGsk64mJz5bwu-4jm-vxe0sVQ4PeCwD_j81Ys' converted to integer type.\n",
            "Data in column C (third column) of the sheet with ID '1KTIZuWsBv6VaEH3URsgLRH2SoP1tDUTxfgmTcTKOms0' converted to integer type.\n",
            "Data in column C (third column) of the sheet with ID '18AWDzmiuJIUUgU0sKVrCh3cY4XGFz7GjLCAt7SAN0Yc' converted to integer type.\n",
            "Data in column C (third column) of the sheet with ID '1cFyrR47crpRCYIeOnTtt5DZn7p1_hT7DmnSCzgkjXIY' converted to integer type.\n",
            "Data in column C (third column) of the sheet with ID '1X0WOQjKtM8LYVZ7mJmfQldfvAYMX9LPs94xN-86zMt4' converted to integer type.\n",
            "Data in column C (third column) of the sheet with ID '1QnJxQIsUuZna-3_spRvyaKZhsPypEcowCxO2jqxh83U' converted to integer type.\n",
            "Data in column C (third column) of the sheet with ID '1qI2_9uMp812yyCr_G6JCCMbeLGZ_ouBWUhRKoKXhlZs' converted to integer type.\n",
            "Data in column C (third column) of the sheet with ID '15EigPMcNOYfrFM-Psi38_6wqgxH72ipsraE3L6dQMHk' converted to integer type.\n",
            "Data in column C (third column) of the sheet with ID '1-f7e0GVUO6Q7tylapEgcQ2rE9MlW4LyY8MtrC9IGK7U' converted to integer type.\n",
            "Data in column C (third column) of the sheet with ID '16YJOrcnndQLnTc32dz4FYnFZ9Z8Pz_OmE1Xe-IZ1mmY' converted to integer type.\n",
            "Data in column C (third column) of the sheet with ID '1fX9j5inuYlVuKIz6JSNqXmqd8qrSHnGrbshLZUwe18A' converted to integer type.\n",
            "Data in column C (third column) of the sheet with ID '1NK9iahKj1F8b3dKHznGDN1r7M6gWCZSye2_DTaRqQTs' converted to integer type.\n",
            "Data in column C (third column) of the sheet with ID '1jEncFr-z0FDW1m4aYS4mkwSyW3oapZ-ExPhsuNHnVmU' converted to integer type.\n",
            "Data in column C (third column) of the sheet with ID '1WXFRI37LmTxNpWCkh5DptKUGtuZf7NTO3wgArDFPO28' converted to integer type.\n",
            "Data in column C (third column) of the sheet with ID '1i20zbVrwjO5I4VQccY3VTKwx2dxBBkA99RgC_6dNX-k' converted to integer type.\n",
            "Data in column C (third column) of the sheet with ID '1KMfb6gQVD33Jwxdxk4RVz87Fwf_UgCZ1YeHC7OVjKC0' converted to integer type.\n",
            "Data in column C (third column) of the sheet with ID '1s4xlNTedjrn55qkDyrEqTgErLA3oc1-h0pNoSdsmtrQ' converted to integer type.\n",
            "Data in column C (third column) of the sheet with ID '1aC6Q7nF1l3BZyTBjTkT1qGCK9LiDEwhvO4n6AcczIYQ' converted to integer type.\n",
            "Data in column C (third column) of the sheet with ID '1S6-sHH13Rk5DTmWjUOvV-XEZntxd9wdtnfZSMPyg5DI' converted to integer type.\n",
            "Data in column C (third column) of the sheet with ID '16wdZwfafVzbr-tpmJgE4BYRpkjr1wYFkf-vRNOO-Hlk' converted to integer type.\n"
          ]
        }
      ]
    }
  ]
}